{
 "cells": [
  {
   "cell_type": "markdown",
   "metadata": {},
   "source": [
    "## Simple CNN Models"
   ]
  },
  {
   "cell_type": "code",
   "execution_count": 1,
   "metadata": {},
   "outputs": [
    {
     "name": "stdout",
     "output_type": "stream",
     "text": [
      "Confusion Matrix:\n"
     ]
    },
    {
     "ename": "NameError",
     "evalue": "name 'y_pred_classes' is not defined",
     "output_type": "error",
     "traceback": [
      "\u001b[1;31m---------------------------------------------------------------------------\u001b[0m",
      "\u001b[1;31mNameError\u001b[0m                                 Traceback (most recent call last)",
      "Cell \u001b[1;32mIn[1], line 54\u001b[0m\n\u001b[0;32m     52\u001b[0m \u001b[38;5;66;03m# Print a confusion matrix for evaluating the model's prediction results\u001b[39;00m\n\u001b[0;32m     53\u001b[0m \u001b[38;5;28mprint\u001b[39m(\u001b[38;5;124m\"\u001b[39m\u001b[38;5;124mConfusion Matrix:\u001b[39m\u001b[38;5;124m\"\u001b[39m)\n\u001b[1;32m---> 54\u001b[0m \u001b[38;5;28mprint\u001b[39m(confusion_matrix(y_test, \u001b[43my_pred_classes\u001b[49m))\n",
      "\u001b[1;31mNameError\u001b[0m: name 'y_pred_classes' is not defined"
     ]
    }
   ],
   "source": [
    "import numpy as np\n",
    "import tensorflow as tf\n",
    "from sklearn.model_selection import train_test_split\n",
    "from sklearn.metrics import accuracy_score, classification_report, confusion_matrix\n",
    "import cv2\n",
    "import os\n",
    "\n",
    "\n",
    "# Set the paths to your image directories\n",
    "sphere_datadir = \"D:\\Sampoerna University\\IoT & SU Project\\AI Delta Robot\\Data Sets\\DataSets - 3D\\Sphere\"\n",
    "cube_datadir = \"D:\\Sampoerna University\\IoT & SU Project\\AI Delta Robot\\Data Sets\\DataSets - 3D\\Cube\"\n",
    "cylinder_datadir = \"D:\\Sampoerna University\\IoT & SU Project\\AI Delta Robot\\Data Sets\\DataSets - 3D\\Cylinder\"\n",
    "\n",
    "CATEGORIES = [\"Sphere\", \"Cube\", \"Cylinder\"]\n",
    "\n",
    "# Function to load and preprocess image data using OpenCV\n",
    "def load_data(datadir, label):\n",
    "    X = []\n",
    "    y = []\n",
    "    for img in os.listdir(datadir):\n",
    "        img_array = cv2.imread(os.path.join(datadir, img), cv2.IMREAD_COLOR)\n",
    "        resized_img = cv2.resize(img_array, (32, 32))  # Resize images to (32, 32)\n",
    "        X.append(resized_img)\n",
    "        y.append(label)\n",
    "    return np.array(X), y\n",
    "\n",
    "# Load and preprocess image data from different directories\n",
    "X_sphere, y_sphere = load_data(sphere_datadir, 0)\n",
    "X_cube, y_cube = load_data(cube_datadir, 1)\n",
    "X_cylinder, y_cylinder = load_data(cylinder_datadir, 2)\n",
    "\n",
    "X = np.concatenate((X_sphere, X_cube, X_cylinder), axis=0)\n",
    "y = np.concatenate((y_sphere, y_cube, y_cylinder), axis=0)\n",
    "\n",
    "# Split the dataset into training and testing sets\n",
    "X_train, X_test, y_train, y_test = train_test_split(X, y, test_size=0.2, random_state=42)\n",
    "\n",
    "# Create a Convolutional Neural Network model\n",
    "model = tf.keras.Sequential([\n",
    "    tf.keras.layers.Conv2D(32, (3, 3), activation='relu', input_shape=(32, 32, 3)),\n",
    "    tf.keras.layers.MaxPooling2D((2, 2)),\n",
    "    tf.keras.layers.Flatten(),\n",
    "    tf.keras.layers.Dense(64, activation='relu'),\n",
    "    tf.keras.layers.Dense(3, activation='softmax')\n",
    "])\n",
    "\n",
    "# Compile the model\n",
    "model.compile(optimizer='adam',\n",
    "              loss='sparse_categorical_crossentropy',\n",
    "              metrics=['accuracy'])\n",
    "\n",
    "# Print a confusion matrix for evaluating the model's prediction results\n",
    "print(\"Confusion Matrix:\")\n",
    "print(confusion_matrix(y_test, y_pred_classes))"
   ]
  }
 ],
 "metadata": {
  "kernelspec": {
   "display_name": "Python 3",
   "language": "python",
   "name": "python3"
  },
  "language_info": {
   "codemirror_mode": {
    "name": "ipython",
    "version": 3
   },
   "file_extension": ".py",
   "mimetype": "text/x-python",
   "name": "python",
   "nbconvert_exporter": "python",
   "pygments_lexer": "ipython3",
   "version": "3.11.3"
  },
  "orig_nbformat": 4
 },
 "nbformat": 4,
 "nbformat_minor": 2
}
